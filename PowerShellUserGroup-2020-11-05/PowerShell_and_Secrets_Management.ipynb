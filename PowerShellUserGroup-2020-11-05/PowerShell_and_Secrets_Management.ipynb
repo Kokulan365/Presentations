{
    "metadata": {
        "kernelspec": {
            "name": ".net-powershell",
            "display_name": ".NET (PowerShell)"
        },
        "language_info": {
            "name": "PowerShell",
            "version": "7.0",
            "mimetype": "text/x-powershell",
            "file_extension": ".ps1",
            "pygments_lexer": "powershell"
        }
    },
    "nbformat_minor": 2,
    "nbformat": 4,
    "cells": [
        {
            "cell_type": "code",
            "source": [
                "# Create Variables\r\n",
                "$Password = \"Passw0rd!\"\r\n",
                "$UserName = \"testuser\" # Can be also domain\\testuser\r\n",
                "$BasePath = \"C:\\GIT\\Presentations\\PowerShellUserGroup-2020-11-05\"\r\n",
                "$KeyPath = Join-Path -Path $BasePath -ChildPath \"AES.key\"\r\n",
                "$PasswordPath = Join-Path -Path $BasePath -ChildPath \"Password.txt\"\r\n",
                "$CLIPathIntegrated = Join-Path -Path $BasePath -ChildPath \"CLIIntegrated.xml\"\r\n",
                "$CLIPathPSFramework = Join-Path -Path $BasePath -ChildPath \"CLIPSFramework.xml\"\r\n",
                "\r\n",
                "$Password\r\n",
                "$UserName\r\n",
                "$BasePath\r\n",
                "$KeyPath\r\n",
                "$PasswordPath\r\n",
                "$CLIPathIntegrated \r\n",
                "$CLIPathPSFramework"
            ],
            "metadata": {
                "azdata_cell_guid": "54fa7f1d-4f14-47fa-8f16-e9e7f022d5ad",
                "tags": [
                    "hide_input"
                ]
            },
            "outputs": [],
            "execution_count": 1
        },
        {
            "cell_type": "markdown",
            "source": [
                "# PowerShell User Group innsalzach 05.11.2020\n",
                "\n",
                "## Handling and managing Secrets using PowerShell"
            ],
            "metadata": {
                "azdata_cell_guid": "cdabd4b1-a878-429d-be6c-e63f219fb45c"
            }
        },
        {
            "cell_type": "markdown",
            "source": [
                "## Basics of PowerShell Credentials"
            ],
            "metadata": {
                "azdata_cell_guid": "78d43f66-a092-417e-a1db-5f0099cad572"
            }
        },
        {
            "cell_type": "markdown",
            "source": [
                "If you want to create a secret you need to things:  \n",
                "\n",
                "- a UserName which is plain text (you can replace UserName with anything else)\n",
                "- the password (needs to be a secure string)(the password could also be an API KEY or something else you want to store as secure string)"
            ],
            "metadata": {
                "azdata_cell_guid": "0883ac07-24c9-40a1-8ffb-978849c38a3c"
            }
        },
        {
            "cell_type": "markdown",
            "source": [
                "## Passwords in an interactive Shell\n",
                "\n",
                "You can also enter the Password like this:\n",
                "\n",
                "Problem: What do you do if this is used in a pipeline or scheduled task for example?\n",
                "\n",
                "Only applicable for interactive scripts."
            ],
            "metadata": {
                "azdata_cell_guid": "b5d66b89-9b90-4934-a5ab-5a82235e985a"
            }
        },
        {
            "cell_type": "code",
            "source": [
                "# Interactive Password\r\n",
                "$InteractivePassword = Read-Host -AsSecureString -Prompt \"Please Enter Password\"\r\n",
                "$InteractivePassword"
            ],
            "metadata": {
                "azdata_cell_guid": "6119b332-b5d6-498e-a96b-5a8716071a38",
                "tags": [
                    "hide_input"
                ]
            },
            "outputs": [],
            "execution_count": null
        },
        {
            "cell_type": "markdown",
            "source": [
                "## If you want to use the PSCredential Object only on this computer use the following example:"
            ],
            "metadata": {
                "azdata_cell_guid": "9bc4f6db-1cf9-46c3-af09-8f30237c3b74"
            }
        },
        {
            "cell_type": "markdown",
            "source": [
                "### Create a secure string"
            ],
            "metadata": {
                "azdata_cell_guid": "5180861c-e3f3-4fbc-bf68-cdb79783fea9"
            }
        },
        {
            "cell_type": "code",
            "source": [
                "# Create a secure string\r\n",
                "$SecPassword = ConvertTo-SecureString -String $Password -AsPlainText -Force"
            ],
            "metadata": {
                "azdata_cell_guid": "1c3a05b8-8324-44a2-b90e-74dddfd0d106",
                "tags": [
                    "hide_input"
                ]
            },
            "outputs": [],
            "execution_count": null
        },
        {
            "cell_type": "markdown",
            "source": [
                "Let's look at the return value"
            ],
            "metadata": {
                "azdata_cell_guid": "ec2280be-3fdd-402e-aebc-8c43ea9424ee"
            }
        },
        {
            "cell_type": "code",
            "source": [
                "# Returnvalue\r\n",
                "$SecPassword"
            ],
            "metadata": {
                "azdata_cell_guid": "635aede9-5f99-44bf-b881-5017c5bf7d53",
                "tags": [
                    "hide_input"
                ]
            },
            "outputs": [],
            "execution_count": null
        },
        {
            "cell_type": "markdown",
            "source": [
                "Get The password again in clear Text"
            ],
            "metadata": {
                "azdata_cell_guid": "f322d666-ddaa-4f6b-af5b-73622473490c"
            }
        },
        {
            "cell_type": "code",
            "source": [
                "\r\n",
                "ConvertFrom-SecureString -SecureString $SecPassword -AsPlainText"
            ],
            "metadata": {
                "azdata_cell_guid": "c5991558-6703-48aa-8cd1-b2caa8b6acda",
                "tags": [
                    "hide_input"
                ]
            },
            "outputs": [],
            "execution_count": null
        },
        {
            "cell_type": "markdown",
            "source": [
                "### Create a PSCredential Object using a securestring obejct\n",
                "\n",
                "**Note**: The SecPassword Variable has to be always of type System.Security.SecureString. Please do not put a string an Argument to the PSCredential Object.\n",
                "\n",
                "**Reference in the Microsoft Docs**: [PSCredential Object](https://docs.microsoft.com/en-us/dotnet/api/system.management.automation.pscredential?view=powershellsdk-7.0.0)"
            ],
            "metadata": {
                "azdata_cell_guid": "0bc567e2-0bf1-443f-bf4d-d92865310c95"
            }
        },
        {
            "cell_type": "code",
            "source": [
                "\r\n",
                "$splat = @{\r\n",
                "    TypeName = \"System.Management.Automation.PSCredential\"\r\n",
                "    ArgumentList = $UserName, $SecPassword\r\n",
                "}\r\n",
                "\r\n",
                "$PSCred = New-Object @splat \r\n",
                "$PSCred"
            ],
            "metadata": {
                "azdata_cell_guid": "bf92b063-da33-4d57-a8d9-64c7f0cbf53c",
                "tags": [
                    "hide_input"
                ]
            },
            "outputs": [],
            "execution_count": null
        },
        {
            "cell_type": "markdown",
            "source": [
                "Create a PSCredential Object in an interactive way"
            ],
            "metadata": {
                "azdata_cell_guid": "7563b10c-1ac0-4865-8f67-b5f80c1dad54"
            }
        },
        {
            "cell_type": "code",
            "source": [
                "\r\n",
                "$Cred = Get-Credential -Message \"Please enter your password\""
            ],
            "metadata": {
                "azdata_cell_guid": "51aa7c9c-41ae-4fc3-b911-289674758c92",
                "tags": [
                    "hide_input"
                ]
            },
            "outputs": [],
            "execution_count": null
        },
        {
            "cell_type": "markdown",
            "source": [
                "If you want to reuse that credential you can export it to a file in an encrypted way"
            ],
            "metadata": {
                "azdata_cell_guid": "7a11f268-fe50-41a3-bc75-492ddb12bac2"
            }
        },
        {
            "cell_type": "code",
            "source": [
                "\r\n",
                "# PowerShell integrated way\r\n",
                "$Cred | Export-CliXML -Path $CLIPathIntegrated\r\n",
                "\r\n",
                "# PSFramewor way\r\n",
                "$Cred | Export-PSFClixml -Path $CLIPathPSFramework"
            ],
            "metadata": {
                "azdata_cell_guid": "a3f053c5-ce1a-43f8-999e-0f59e3e8bc68",
                "tags": [
                    "hide_input"
                ]
            },
            "outputs": [],
            "execution_count": null
        },
        {
            "cell_type": "markdown",
            "source": [
                "Import the XML Files whenever neeeded\n",
                "\n",
                "**Note:** This can only be done on the same machine"
            ],
            "metadata": {
                "azdata_cell_guid": "7b14e943-cfcf-4bd8-b698-22aa332cc873"
            }
        },
        {
            "cell_type": "code",
            "source": [
                "\r\n",
                "# Import Credential using the integrated way\r\n",
                "Import-Clixml -Path $CLIPathIntegrated\r\n",
                "\r\n",
                "# Import Credential using PSFramework\r\n",
                "Import-PSFClixml -Path $CLIPathPSFramework"
            ],
            "metadata": {
                "azdata_cell_guid": "23016ae8-dd9b-4d97-91af-50f2cb56ec00",
                "tags": [
                    "hide_input"
                ]
            },
            "outputs": [],
            "execution_count": null
        },
        {
            "cell_type": "markdown",
            "source": [
                "## If you want to share a PSCredential with remote Computers also please use a key.  \n",
                "\n",
                "**Note**: You can use that also if you want to use It only on one computer."
            ],
            "metadata": {
                "azdata_cell_guid": "a7d34a6f-83ed-4b00-a92c-a49befb3f700"
            }
        },
        {
            "cell_type": "markdown",
            "source": [
                "## Create a Key File\n",
                "\n",
                "**Note**: If you want to make that key accessible to more computers store It somewhere safe on a fileshare. (Take care of the right ACLs)"
            ],
            "metadata": {
                "azdata_cell_guid": "d954a1d9-40e1-49e8-8af3-d0712ae26859"
            }
        },
        {
            "cell_type": "code",
            "source": [
                "\r\n",
                "$KeyPath = Join-Path -Path $BasePath -ChildPath \"AES.key\"\r\n",
                "$Key = New-Object -TypeName byte[] 16\r\n",
                "[Security.Cryptography.RNGCryptoServiceProvider]::Create().GetBytes($Key)\r\n",
                "$key | Out-File -FilePath $KeyPath"
            ],
            "metadata": {
                "azdata_cell_guid": "03db4ea0-e899-42e7-bb5c-831b6f8ca993",
                "tags": [
                    "hide_input"
                ]
            },
            "outputs": [],
            "execution_count": null
        },
        {
            "cell_type": "markdown",
            "source": [
                "###  Create a SecureString and encrypt It with the key"
            ],
            "metadata": {
                "azdata_cell_guid": "3ab95d49-2e7d-4d9a-b31c-6c19ad056edd"
            }
        },
        {
            "cell_type": "code",
            "source": [
                "\r\n",
                "$key = Get-Content -Path $KeyPath\r\n",
                "$EncPassword = ConvertTo-SecureString -String $Password -AsPlainText -Force\r\n",
                "$EncPassword | ConvertFrom-SecureString -Key $key | Out-File -FilePath $PasswordPath"
            ],
            "metadata": {
                "azdata_cell_guid": "27e99dbd-e8ad-42be-8d7b-ad1e9926d240",
                "tags": [
                    "hide_input"
                ]
            },
            "outputs": [],
            "execution_count": null
        },
        {
            "cell_type": "markdown",
            "source": [
                "Reminder: Open Password File"
            ],
            "metadata": {
                "azdata_cell_guid": "3bd9f956-fbe6-4767-ad13-77c044d1bc74"
            }
        },
        {
            "cell_type": "markdown",
            "source": [
                "### Create the PSCredential Object"
            ],
            "metadata": {
                "azdata_cell_guid": "af148179-2f44-4fa1-848b-e58e884f5e00"
            }
        },
        {
            "cell_type": "code",
            "source": [
                "\r\n",
                "$key = Get-Content -Path $KeyPath\r\n",
                "$pwd = Get-Content -Path $PasswordPath | ConvertTo-SecureString -Key $key\r\n",
                "$PSCred = New-Object -TypeName System.Management.Automation.PSCredential -ArgumentList $UserName, $pwd"
            ],
            "metadata": {
                "azdata_cell_guid": "49826761-5626-4375-ab31-e166431f5fd8",
                "tags": [
                    "hide_input"
                ]
            },
            "outputs": [],
            "execution_count": null
        },
        {
            "cell_type": "markdown",
            "source": [
                "## Secrets Management and KeePass"
            ],
            "metadata": {
                "azdata_cell_guid": "9a5452d3-8dd1-4d69-8402-8cdfb68c6192"
            }
        },
        {
            "cell_type": "markdown",
            "source": [
                "KeePass ([KeePass Password Safe](https://keepass.info/)) is a widely uses Password Management System. It stores all Passwords into a .kdbx File.\n",
                "\n",
                "In a .kdbx File you can have folders and Passwords. You can organize the passwords in this folders.\n",
                "\n",
                "If you want to open the .kdbx File you have to provide a master password.\n",
                "\n",
                "To access KeePass via PowerShell you have to install a module called [GitHub - PSKeePass/PoShKeePass: PowerShell module for KeePass](https://github.com/PSKeePass/PoShKeePass)"
            ],
            "metadata": {
                "azdata_cell_guid": "7d868c96-d9f2-4032-b843-d2946b4726f3"
            }
        },
        {
            "cell_type": "markdown",
            "source": [
                "This module is only available in PowerShell 5.1 (Use PowerShell 5.1 for that)"
            ],
            "metadata": {
                "azdata_cell_guid": "ad1d8806-6dbf-48c2-a19b-3a70d2e22eba"
            }
        },
        {
            "cell_type": "code",
            "source": [
                "Install-Module -Name PoShKeePass"
            ],
            "metadata": {
                "azdata_cell_guid": "b6acf0ba-e34d-44bd-9385-d3b034cf9ddd"
            },
            "outputs": [
                {
                    "data": {
                        "text/html": "\r\n<div>\r\n    <div id='dotnet-interactive-this-cell-6400.3a7a600c06f94a17b695ec328fcb2b94' style='display: none'>\r\n        The below script needs to be able to find the current output cell; this is an easy method to get it.\r\n    </div>\r\n    <script type='text/javascript'>\r\n// ensure `require` is available globally\r\nif (typeof require !== typeof Function || typeof require.config !== typeof Function) {\r\n    let require_script = document.createElement('script');\r\n    require_script.setAttribute('src', 'https://cdnjs.cloudflare.com/ajax/libs/require.js/2.3.6/require.min.js');\r\n    require_script.setAttribute('type', 'text/javascript');\r\n    require_script.onload = function () {\r\n        loadDotnetInteractiveApi();\r\n    };\r\n\r\n    document.getElementsByTagName('head')[0].appendChild(require_script);\r\n}\r\nelse {\r\n    loadDotnetInteractiveApi();\r\n}\r\n\r\nasync function probeAddresses(probingAddresses) {\r\n    function timeout(ms, promise) {\r\n        return new Promise(function (resolve, reject) {\r\n            setTimeout(function () {\r\n                reject(new Error('timeout'))\r\n            }, ms)\r\n            promise.then(resolve, reject)\r\n        })\r\n    }\r\n\r\n    if (Array.isArray(probingAddresses)) {\r\n        for (let i = 0; i < probingAddresses.length; i++) {\r\n\r\n            let rootUrl = probingAddresses[i];\r\n\r\n            if (!rootUrl.endsWith('/')) {\r\n                rootUrl = `${rootUrl}/`;\r\n            }\r\n\r\n            try {\r\n                let response = await timeout(1000, fetch(`${rootUrl}discovery`, {\r\n                    method: 'POST',\r\n                    cache: 'no-cache',\r\n                    mode: 'cors',\r\n                    timeout: 1000,\r\n                    headers: {\r\n                        'Content-Type': 'text/plain'\r\n                    },\r\n                    body: probingAddresses[i]\r\n                }));\r\n\r\n                if (response.status == 200) {\r\n                    return rootUrl;\r\n                }\r\n            }\r\n            catch (e) { }\r\n        }\r\n    }\r\n}\r\n\r\nfunction loadDotnetInteractiveApi() {\r\n    probeAddresses([\"http://10.0.0.4:1000/\", \"http://127.0.0.1:1000/\"])\r\n        .then((root) => {\r\n            // use probing to find host url and api resources\r\n            // load interactive helpers and language services\r\n            let dotnetInteractiveRequire = require.config({\r\n                context: '6400.3a7a600c06f94a17b695ec328fcb2b94',\r\n                paths: {\r\n                    'dotnet-interactive': `${root}resources`\r\n                }\r\n            }) || require;\r\n\r\n            let dotnetInteractiveExtensionsRequire = require.config({\r\n                context: '6400.3a7a600c06f94a17b695ec328fcb2b94',\r\n                paths: {\r\n                    'dotnet-interactive-extensions': `${root}extensions`\r\n                }\r\n            }) || require;\r\n\r\n            if (!window.dotnetInteractiveRequire) {\r\n                window.dotnetInteractiveRequire = dotnetInteractiveRequire;\r\n            }\r\n\r\n            if (!window.dotnetInteractiveExtensionsRequire) {\r\n                window.dotnetInteractiveExtensionsRequire = dotnetInteractiveExtensionsRequire;\r\n            }\r\n\r\n            window.getExtensionRequire = function(extensionName, extensionCacheBuster) {\r\n                let paths = {};\r\n                paths[extensionName] = `${root}extensions/${extensionName}/resources/`;\r\n                \r\n                let internalRequire = require.config({\r\n                    context: extensionCacheBuster,\r\n                    paths: paths,\r\n                    urlArgs: `cacheBuster=${extensionCacheBuster}`\r\n                    }) || require;\r\n\r\n                return internalRequire\r\n            };\r\n        \r\n            dotnetInteractiveRequire([\r\n                    'dotnet-interactive/dotnet-interactive'\r\n                ],\r\n                function (dotnet) {\r\n                    dotnet.init(window);\r\n                },\r\n                function (error) {\r\n                    console.log(error);\r\n                }\r\n            );\r\n        })\r\n        .catch(error => {console.log(error);});\r\n    }\r\n    </script>\r\n</div>"
                    },
                    "metadata": {},
                    "output_type": "display_data"
                }
            ],
            "execution_count": 1
        },
        {
            "cell_type": "markdown",
            "source": [
                "Let's take a look what Cmdlets do come with the module"
            ],
            "metadata": {
                "azdata_cell_guid": "677350b0-e419-49bc-a3ec-3f9ecc4ba896"
            }
        },
        {
            "cell_type": "code",
            "source": [
                "\r\n",
                "Get-Command -Module PoShKeePass"
            ],
            "metadata": {
                "azdata_cell_guid": "aaaebbea-1c54-41ae-ab69-d3e6a1b47044",
                "tags": [
                    "hide_input"
                ]
            },
            "outputs": [],
            "execution_count": null
        },
        {
            "cell_type": "markdown",
            "source": [
                " So Let's create our KeePass Database and use a KeyFile for that"
            ],
            "metadata": {
                "azdata_cell_guid": "b216af9d-477c-4cae-8330-7f586a09901f"
            }
        },
        {
            "cell_type": "code",
            "source": [
                "\r\n",
                "New-KeePassDatabase -DatabasePath C:\\PSUG\\KeePass\\PSCreateKeepass.kdbx -KeyPath C:\\PSUG\\KeePass\\PSUGTest.key"
            ],
            "metadata": {
                "azdata_cell_guid": "4fe44b48-ae9d-4e01-9c2e-9809e22eba30",
                "tags": [
                    "hide_input"
                ]
            },
            "outputs": [],
            "execution_count": null
        },
        {
            "cell_type": "markdown",
            "source": [
                "Snap! That's not implemented yet. If you want to create that you have to do that through the GUI (Show that).\n",
                "\n",
                "If you want to create a KeePass Database which is only protected by a master key you can create that with PowerShell"
            ],
            "metadata": {
                "azdata_cell_guid": "e037bf93-305d-4fce-bc31-1811f01166dc"
            }
        },
        {
            "cell_type": "code",
            "source": [
                "\r\n",
                "$Credential = Get-Credential -UserName \"NotNeeded\" -Message \"Please Provide the KeePass Master Key\"\r\n",
                "New-KeePassDatabase -DatabasePath C:\\PSUG\\KeePass\\PSUGDatabaseWithMasterKeyOnly.kdbx -MasterKey $Credential"
            ],
            "metadata": {
                "azdata_cell_guid": "5a0bae67-4895-4c23-8957-598749f8238f",
                "tags": [
                    "hide_input"
                ]
            },
            "outputs": [],
            "execution_count": null
        },
        {
            "cell_type": "markdown",
            "source": [
                "Now you can open the Database with PowerShell. To open the KeePass Database you first have to create a KeePass Database Configuration.\n",
                "\n",
                "So Let's do that"
            ],
            "metadata": {
                "azdata_cell_guid": "dc5f5e00-a3cd-43ef-ae05-407d49f62d92"
            }
        },
        {
            "cell_type": "code",
            "source": [
                "\r\n",
                "Get-KeePassDatabaseConfiguration | Remove-KeePassDatabaseConfiguration\r\n",
                "New-KeePassDatabaseConfiguration -DatabaseProfileName PSUGTest -DatabasePath C:\\PSUG\\KeePass\\Database.kdbx -KeyPath C:\\PSUG\\KeePass\\PSUGTest.key\r\n",
                "Get-KeePassDatabaseConfiguration"
            ],
            "metadata": {
                "azdata_cell_guid": "ec339726-b158-4e62-af3f-d40898907812",
                "tags": [
                    "hide_input"
                ]
            },
            "outputs": [],
            "execution_count": null
        },
        {
            "cell_type": "markdown",
            "source": [
                "If you want to create a KeePass Database Configuration with a Master Key protected KeePass file"
            ],
            "metadata": {
                "azdata_cell_guid": "a74f276f-7cb9-4b89-b114-a7326ab5b4fc"
            }
        },
        {
            "cell_type": "code",
            "source": [
                "\r\n",
                "Get-KeePassDatabaseConfiguration | Remove-KeePassDatabaseConfiguration\r\n",
                "New-KeePassDatabaseConfiguration -DatabaseProfileName PSUGTest -DatabasePath C:\\PSUG\\KeePass\\Database.kdbx -UseMasterKey\r\n",
                "Get-KeePassDatabaseConfiguration"
            ],
            "metadata": {
                "azdata_cell_guid": "d7fdacc9-2953-45ff-8e52-6eba0d2fd8d9",
                "tags": [
                    "hide_input"
                ]
            },
            "outputs": [],
            "execution_count": null
        },
        {
            "cell_type": "markdown",
            "source": [
                "  \n",
                "\n",
                "You can have multiple Database Configurations but if you want to set one as default"
            ],
            "metadata": {
                "azdata_cell_guid": "a177633e-6011-493a-99c3-39294bfb86a8"
            }
        },
        {
            "cell_type": "code",
            "source": [
                "\r\n",
                "Get-KeePassDatabaseConfiguration | Remove-KeePassDatabaseConfiguration\r\n",
                "New-KeePassDatabaseConfiguration -DatabaseProfileName PSUGTest -DatabasePath C:\\PSUG\\KeePass\\Database.kdbx -UseMasterKey -Default\r\n",
                "Get-KeePassDatabaseConfiguration"
            ],
            "metadata": {
                "azdata_cell_guid": "71a5cc8b-e15f-4620-ac35-31dd61d71ac5",
                "tags": [
                    "hide_input"
                ]
            },
            "outputs": [],
            "execution_count": null
        },
        {
            "cell_type": "markdown",
            "source": [
                "If you want to set the default switch on a existing Database Configuration use (There is tab completion on the DatabaseProfileName)"
            ],
            "metadata": {
                "azdata_cell_guid": "86e9ebfd-82cf-4865-99ca-15d06140b344"
            }
        },
        {
            "cell_type": "code",
            "source": [
                "\r\n",
                "Update-KeePassDatabaseConfiguration -DatabaseProfileName PSUGTest -Default"
            ],
            "metadata": {
                "azdata_cell_guid": "44641613-6b9e-4441-82e5-eea33d632049",
                "tags": [
                    "hide_input"
                ]
            },
            "outputs": [],
            "execution_count": null
        },
        {
            "cell_type": "markdown",
            "source": [
                "Now we have to get the Root of our KeePass Database (With Master Key)"
            ],
            "metadata": {
                "azdata_cell_guid": "fad30e03-0eb6-4f03-8539-daacca588c1b"
            }
        },
        {
            "cell_type": "code",
            "source": [
                "\r\n",
                "$MasterKey = ConvertTo-SecureString -String ($Credential.GetNetworkCredential().Password) -AsPlainText -Force\r\n",
                "$rootPath = (Get-KeePassGroup -MasterKey $MasterKey | Where-Object {-not $_.ParentGroup}).Name"
            ],
            "metadata": {
                "azdata_cell_guid": "648a30f1-da03-401a-af88-880cd526fbe1",
                "tags": [
                    "hide_input"
                ]
            },
            "outputs": [],
            "execution_count": null
        },
        {
            "cell_type": "markdown",
            "source": [
                "Now we have to get the Root of our KeePass Database (With Key File)"
            ],
            "metadata": {
                "azdata_cell_guid": "306a28fe-0780-4d9c-a1e7-179725e9610d"
            }
        },
        {
            "cell_type": "code",
            "source": [
                "\r\n",
                "$rootPath = (Get-KeePassGroup -MasterKey $Credential.GetNetworkCredential().Password | Where-Object {-not $_.ParentGroup}).Name"
            ],
            "metadata": {
                "azdata_cell_guid": "f7e952cb-8ba7-44da-93eb-d0d0bb55f590",
                "tags": [
                    "hide_input"
                ]
            },
            "outputs": [],
            "execution_count": null
        },
        {
            "cell_type": "markdown",
            "source": [
                "To Create a new Folder inside our KeePass Database (With Master Key)"
            ],
            "metadata": {
                "azdata_cell_guid": "211ee7c8-c1eb-42d1-af90-4e13cbcadcf7"
            }
        },
        {
            "cell_type": "code",
            "source": [
                "\r\n",
                "$MasterKey = ConvertTo-SecureString -String ($Credential.GetNetworkCredential().Password) -AsPlainText -Force\r\n",
                "New-KeePassGroup -KeePassGroupParentPath $rootPath -KeePassGroupName \"PSUG Folder\" -MasterKey $MasterKey -ErrorAction SilentlyContinue"
            ],
            "metadata": {
                "azdata_cell_guid": "fceea5fc-39f2-406d-afb7-f1f34988c641",
                "tags": [
                    "hide_input"
                ]
            },
            "outputs": [],
            "execution_count": null
        },
        {
            "cell_type": "markdown",
            "source": [
                "To Create a new Folder inside our KeePass Database (With Key File)"
            ],
            "metadata": {
                "azdata_cell_guid": "04794119-6817-4789-8369-5f4195c843be"
            }
        },
        {
            "cell_type": "code",
            "source": [
                "\r\n",
                "New-KeePassGroup -KeePassGroupParentPath $rootPath -KeePassGroupName \"PSUG Folder\""
            ],
            "metadata": {
                "azdata_cell_guid": "5dc2add9-a03c-4b4d-a1b7-22511e750551",
                "tags": [
                    "hide_input"
                ]
            },
            "outputs": [],
            "execution_count": null
        },
        {
            "cell_type": "markdown",
            "source": [
                "To Verify that we have created the folder inside our KeePass Database (With Master Key)"
            ],
            "metadata": {
                "azdata_cell_guid": "69dfe89f-e77e-421e-af2c-615a761d8727"
            }
        },
        {
            "cell_type": "code",
            "source": [
                "\r\n",
                "$MasterKey = ConvertTo-SecureString -String ($Credential.GetNetworkCredential().Password) -AsPlainText -Force\r\n",
                "Get-KeePassGroup -KeePassGroupPath \"$rootPath/PSUG Folder\" -MasterKey $MasterKey -ErrorAction SilentlyContinue"
            ],
            "metadata": {
                "azdata_cell_guid": "cb07bf31-c8e4-49ea-91c3-c8d4ac4f5897",
                "tags": [
                    "hide_input"
                ]
            },
            "outputs": [],
            "execution_count": null
        },
        {
            "cell_type": "markdown",
            "source": [
                "To Verify that we have created the folder inside our KeePass Database (With Key File)"
            ],
            "metadata": {
                "azdata_cell_guid": "74085d2b-6a8f-4fd2-85b9-41896fd4d553"
            }
        },
        {
            "cell_type": "code",
            "source": [
                "\r\n",
                "Get-KeePassGroup -KeePassGroupPath \"$rootPath/PSUG Folder\""
            ],
            "metadata": {
                "azdata_cell_guid": "120a561e-86ab-4907-871a-c18021d12aed",
                "tags": [
                    "hide_input"
                ]
            },
            "outputs": [],
            "execution_count": null
        },
        {
            "cell_type": "markdown",
            "source": [
                "To Create a KeePass Password (With Master Key)"
            ],
            "metadata": {
                "azdata_cell_guid": "ea18ad7b-f6dc-4a8a-8c8a-683acf9f348a"
            }
        },
        {
            "cell_type": "code",
            "source": [
                "\r\n",
                "$Passsword = Read-Host -AsSecureString -Prompt \"Please enter the password\"\r\n",
                "New-KeePassEntry -KeePassEntryGroupPath $rootPath -Title \"TestEntry\" -UserName \"TestUser\" -KeePassPassword $Passsword -MasterKey $MasterKey -ErrorAction SilentlyContinue"
            ],
            "metadata": {
                "azdata_cell_guid": "67a39029-096f-4f1f-b190-5f82ad513c99",
                "tags": [
                    "hide_input"
                ]
            },
            "outputs": [],
            "execution_count": null
        },
        {
            "cell_type": "markdown",
            "source": [
                "To Create a KeePass Password (With Key File)"
            ],
            "metadata": {
                "azdata_cell_guid": "88a92414-f83f-44b7-8a8d-96d41c3ec53a"
            }
        },
        {
            "cell_type": "code",
            "source": [
                "\r\n",
                "$Passsword = Read-Host -AsSecureString -Prompt \"Please enter the password\"\r\n",
                "New-KeePassEntry -KeePassEntryGroupPath $rootPath -Title \"TestEntry\" -UserName \"TestUser\" -KeePassPassword $Passsword"
            ],
            "metadata": {
                "azdata_cell_guid": "c6e6cf1b-d066-4231-9489-63de527ef46b",
                "tags": [
                    "hide_input"
                ]
            },
            "outputs": [],
            "execution_count": null
        },
        {
            "cell_type": "markdown",
            "source": [
                "To Check if we realy created that entry (With Master Key)"
            ],
            "metadata": {
                "azdata_cell_guid": "84faf042-b5bc-48c7-8405-0060341188e2"
            }
        },
        {
            "cell_type": "code",
            "source": [
                "\r\n",
                "Get-KeePassEntry -KeePassEntryGroupPath $rootPath -Title TestEntry -MasterKey $MasterKey -ErrorAction SilentlyContinue"
            ],
            "metadata": {
                "azdata_cell_guid": "9d683255-3141-4a6e-8042-f8918a4386ca",
                "tags": [
                    "hide_input"
                ]
            },
            "outputs": [],
            "execution_count": null
        },
        {
            "cell_type": "markdown",
            "source": [
                "To Check if we realy created that entry (With Key File)"
            ],
            "metadata": {
                "azdata_cell_guid": "6ced938c-a75b-42ff-a287-e307ee7368f0"
            }
        },
        {
            "cell_type": "code",
            "source": [
                "\r\n",
                "Get-KeePassEntry -KeePassEntryGroupPath $rootPath -Title TestEntry"
            ],
            "metadata": {
                "azdata_cell_guid": "249cb189-3824-40bf-b3f8-a734cdaa9ab4",
                "tags": [
                    "hide_input"
                ]
            },
            "outputs": [],
            "execution_count": null
        },
        {
            "cell_type": "markdown",
            "source": [
                "To get the entry back as PSCredential (With Master Key)"
            ],
            "metadata": {
                "azdata_cell_guid": "cd5ed4f9-d39c-4621-ba5e-d995258a2c17"
            }
        },
        {
            "cell_type": "code",
            "source": [
                "\r\n",
                "$entry = Get-KeePassEntry -KeePassEntryGroupPath $rootPath -Title TestEntry -MasterKey $MasterKey -ErrorAction SilentlyContinue\r\n",
                "$entry | Get-Member\r\n",
                "\r\n",
                "$EntryToPSCred = New-Object -TypeName System.Management.Automation.PSCredential -ArgumentList $entry.UserName, $entry.Password\r\n",
                "$EntryToPSCred | Get-Member"
            ],
            "metadata": {
                "azdata_cell_guid": "6191ea6c-21e9-4cf1-ab36-a62de3de9a2d",
                "tags": [
                    "hide_input"
                ]
            },
            "outputs": [],
            "execution_count": null
        },
        {
            "cell_type": "markdown",
            "source": [
                "To get the entry back as PSCredential (With Key File)"
            ],
            "metadata": {
                "azdata_cell_guid": "e4a97c97-c69f-4d98-83c1-6e18e7c8be21"
            }
        },
        {
            "cell_type": "code",
            "source": [
                "\r\n",
                "$entry = Get-KeePassEntry -KeePassEntryGroupPath $rootPath -Title TestEntry\r\n",
                "$entry | Get-Member\r\n",
                "\r\n",
                "$EntryToPSCred = New-Object -TypeName System.Management.Automation.PSCredential -ArgumentList $entry.UserName, $entry.Password\r\n",
                "$EntryToPSCred | Get-Member"
            ],
            "metadata": {
                "azdata_cell_guid": "729c0d5a-bc60-4b5a-81cc-6d8e0709def7",
                "tags": [
                    "hide_input"
                ]
            },
            "outputs": [],
            "execution_count": null
        },
        {
            "cell_type": "markdown",
            "source": [
                "TODO: Azure KeyVault, LastPass, Secret Management"
            ],
            "metadata": {
                "azdata_cell_guid": "f14d7e4f-11a4-420e-8b4b-9d7814900622"
            }
        },
        {
            "cell_type": "markdown",
            "source": [
                "## Housekeeping"
            ],
            "metadata": {
                "azdata_cell_guid": "e0531874-7561-4e03-bab6-2ec09088876d"
            }
        },
        {
            "cell_type": "code",
            "source": [
                "\r\n",
                "Remove-Item -Path $KeyPath -Force\r\n",
                "Remove-Item -Path $PasswordPath -Force\r\n",
                "Remove-Item -Path $CLIPathIntegrated -Force\r\n",
                "Remove-Item -Path $CLIPathPSFramework -Force\r\n",
                "\r\n",
                "Get-KeePassDatabaseConfiguration | Remove-KeePassDatabaseConfiguration\r\n",
                "Remove-Item -Path C:\\PSUG -Recurse -Force"
            ],
            "metadata": {
                "azdata_cell_guid": "0b2514a9-495b-40ec-91fe-a21bfaee0a20",
                "tags": [
                    "hide_input"
                ]
            },
            "outputs": [],
            "execution_count": 2
        }
    ]
}