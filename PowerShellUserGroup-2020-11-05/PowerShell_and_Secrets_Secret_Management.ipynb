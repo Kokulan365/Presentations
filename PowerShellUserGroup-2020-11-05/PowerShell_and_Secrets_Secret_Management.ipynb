{
    "metadata": {
        "kernelspec": {
            "name": ".net-powershell",
            "display_name": ".NET (PowerShell)"
        },
        "language_info": {
            "name": "PowerShell",
            "version": "7.0",
            "mimetype": "text/x-powershell",
            "file_extension": ".ps1",
            "pygments_lexer": "powershell"
        }
    },
    "nbformat_minor": 2,
    "nbformat": 4,
    "cells": [
        {
            "cell_type": "code",
            "source": [
                "# Create Variables\r\n",
                "$Password = \"Passw0rd!\"\r\n",
                "$UserName = \"testuser\" # Can be also domain\\testuser\r\n",
                "$BasePath = \"C:\\GIT\\Presentations\\PowerShellUserGroup-2020-11-05\"\r\n",
                "$KeyPath = Join-Path -Path $BasePath -ChildPath \"AES.key\"\r\n",
                "$PasswordPath = Join-Path -Path $BasePath -ChildPath \"Password.txt\"\r\n",
                "$CLIPathIntegrated = Join-Path -Path $BasePath -ChildPath \"CLIIntegrated.xml\"\r\n",
                "$CLIPathPSFramework = Join-Path -Path $BasePath -ChildPath \"CLIPSFramework.xml\"\r\n",
                "\r\n",
                "$Password\r\n",
                "$UserName\r\n",
                "$BasePath\r\n",
                "$KeyPath\r\n",
                "$PasswordPath\r\n",
                "$CLIPathIntegrated \r\n",
                "$CLIPathPSFramework"
            ],
            "metadata": {
                "azdata_cell_guid": "54fa7f1d-4f14-47fa-8f16-e9e7f022d5ad",
                "tags": [
                    "hide_input"
                ]
            },
            "outputs": [],
            "execution_count": 1
        },
        {
            "cell_type": "markdown",
            "source": [
                "# PowerShell User Group innsalzach 05.11.2020\n",
                "\n",
                "## Handling and managing Secrets using PowerShell"
            ],
            "metadata": {
                "azdata_cell_guid": "cdabd4b1-a878-429d-be6c-e63f219fb45c"
            }
        },
        {
            "cell_type": "markdown",
            "source": [
                "## Basics of PowerShell Credentials"
            ],
            "metadata": {
                "azdata_cell_guid": "78d43f66-a092-417e-a1db-5f0099cad572"
            }
        },
        {
            "cell_type": "markdown",
            "source": [
                "If you want to create a secret you need to things:  \n",
                "\n",
                "- a UserName which is plain text (you can replace UserName with anything else)\n",
                "- the password (needs to be a secure string)(the password could also be an API KEY or something else you want to store as secure string)"
            ],
            "metadata": {
                "azdata_cell_guid": "0883ac07-24c9-40a1-8ffb-978849c38a3c"
            }
        },
        {
            "cell_type": "markdown",
            "source": [
                "## Passwords in an interactive Shell\n",
                "\n",
                "You can also enter the Password like this:\n",
                "\n",
                "Problem: What do you do if this is used in a pipeline or scheduled task for example?\n",
                "\n",
                "Only applicable for interactive scripts."
            ],
            "metadata": {
                "azdata_cell_guid": "b5d66b89-9b90-4934-a5ab-5a82235e985a"
            }
        },
        {
            "cell_type": "code",
            "source": [
                "# Interactive Password\r\n",
                "$InteractivePassword = Read-Host -AsSecureString -Prompt \"Please Enter Password\"\r\n",
                "$InteractivePassword"
            ],
            "metadata": {
                "azdata_cell_guid": "6119b332-b5d6-498e-a96b-5a8716071a38",
                "tags": [
                    "hide_input"
                ]
            },
            "outputs": [],
            "execution_count": null
        },
        {
            "cell_type": "markdown",
            "source": [
                "## If you want to use the PSCredential Object only on this computer use the following example:"
            ],
            "metadata": {
                "azdata_cell_guid": "9bc4f6db-1cf9-46c3-af09-8f30237c3b74"
            }
        },
        {
            "cell_type": "markdown",
            "source": [
                "### Create a secure string"
            ],
            "metadata": {
                "azdata_cell_guid": "5180861c-e3f3-4fbc-bf68-cdb79783fea9"
            }
        },
        {
            "cell_type": "code",
            "source": [
                "# Create a secure string\r\n",
                "$SecPassword = ConvertTo-SecureString -String $Password -AsPlainText -Force"
            ],
            "metadata": {
                "azdata_cell_guid": "1c3a05b8-8324-44a2-b90e-74dddfd0d106",
                "tags": [
                    "hide_input"
                ]
            },
            "outputs": [],
            "execution_count": null
        },
        {
            "cell_type": "markdown",
            "source": [
                "Let's look at the return value"
            ],
            "metadata": {
                "azdata_cell_guid": "ec2280be-3fdd-402e-aebc-8c43ea9424ee"
            }
        },
        {
            "cell_type": "code",
            "source": [
                "# Returnvalue\r\n",
                "$SecPassword"
            ],
            "metadata": {
                "azdata_cell_guid": "635aede9-5f99-44bf-b881-5017c5bf7d53",
                "tags": [
                    "hide_input"
                ]
            },
            "outputs": [],
            "execution_count": null
        },
        {
            "cell_type": "markdown",
            "source": [
                "Get The password again in clear Text"
            ],
            "metadata": {
                "azdata_cell_guid": "f322d666-ddaa-4f6b-af5b-73622473490c"
            }
        },
        {
            "cell_type": "code",
            "source": [
                "\r\n",
                "ConvertFrom-SecureString -SecureString $SecPassword -AsPlainText"
            ],
            "metadata": {
                "azdata_cell_guid": "c5991558-6703-48aa-8cd1-b2caa8b6acda",
                "tags": [
                    "hide_input"
                ]
            },
            "outputs": [],
            "execution_count": null
        },
        {
            "cell_type": "markdown",
            "source": [
                "### Create a PSCredential Object using a securestring obejct\n",
                "\n",
                "**Note**: The SecPassword Variable has to be always of type System.Security.SecureString. Please do not put a string an Argument to the PSCredential Object.\n",
                "\n",
                "**Reference in the Microsoft Docs**: [PSCredential Object](https://docs.microsoft.com/en-us/dotnet/api/system.management.automation.pscredential?view=powershellsdk-7.0.0)"
            ],
            "metadata": {
                "azdata_cell_guid": "0bc567e2-0bf1-443f-bf4d-d92865310c95"
            }
        },
        {
            "cell_type": "code",
            "source": [
                "\r\n",
                "$splat = @{\r\n",
                "    TypeName = \"System.Management.Automation.PSCredential\"\r\n",
                "    ArgumentList = $UserName, $SecPassword\r\n",
                "}\r\n",
                "\r\n",
                "$PSCred = New-Object @splat \r\n",
                "$PSCred"
            ],
            "metadata": {
                "azdata_cell_guid": "bf92b063-da33-4d57-a8d9-64c7f0cbf53c",
                "tags": [
                    "hide_input"
                ]
            },
            "outputs": [],
            "execution_count": null
        },
        {
            "cell_type": "markdown",
            "source": [
                "Create a PSCredential Object in an interactive way"
            ],
            "metadata": {
                "azdata_cell_guid": "7563b10c-1ac0-4865-8f67-b5f80c1dad54"
            }
        },
        {
            "cell_type": "code",
            "source": [
                "\r\n",
                "$Cred = Get-Credential -Message \"Please enter your password\""
            ],
            "metadata": {
                "azdata_cell_guid": "51aa7c9c-41ae-4fc3-b911-289674758c92",
                "tags": [
                    "hide_input"
                ]
            },
            "outputs": [],
            "execution_count": null
        },
        {
            "cell_type": "markdown",
            "source": [
                "If you want to reuse that credential you can export it to a file in an encrypted way"
            ],
            "metadata": {
                "azdata_cell_guid": "7a11f268-fe50-41a3-bc75-492ddb12bac2"
            }
        },
        {
            "cell_type": "code",
            "source": [
                "\r\n",
                "# PowerShell integrated way\r\n",
                "$Cred | Export-CliXML -Path $CLIPathIntegrated\r\n",
                "\r\n",
                "# PSFramewor way\r\n",
                "$Cred | Export-PSFClixml -Path $CLIPathPSFramework"
            ],
            "metadata": {
                "azdata_cell_guid": "a3f053c5-ce1a-43f8-999e-0f59e3e8bc68",
                "tags": [
                    "hide_input"
                ]
            },
            "outputs": [],
            "execution_count": null
        },
        {
            "cell_type": "markdown",
            "source": [
                "Import the XML Files whenever neeeded\n",
                "\n",
                "**Note:** This can only be done on the same machine"
            ],
            "metadata": {
                "azdata_cell_guid": "7b14e943-cfcf-4bd8-b698-22aa332cc873"
            }
        },
        {
            "cell_type": "code",
            "source": [
                "\r\n",
                "# Import Credential using the integrated way\r\n",
                "Import-Clixml -Path $CLIPathIntegrated\r\n",
                "\r\n",
                "# Import Credential using PSFramework\r\n",
                "Import-PSFClixml -Path $CLIPathPSFramework"
            ],
            "metadata": {
                "azdata_cell_guid": "23016ae8-dd9b-4d97-91af-50f2cb56ec00",
                "tags": [
                    "hide_input"
                ]
            },
            "outputs": [],
            "execution_count": null
        },
        {
            "cell_type": "markdown",
            "source": [
                "## If you want to share a PSCredential with remote Computers also please use a key.  \n",
                "\n",
                "**Note**: You can use that also if you want to use It only on one computer."
            ],
            "metadata": {
                "azdata_cell_guid": "a7d34a6f-83ed-4b00-a92c-a49befb3f700"
            }
        },
        {
            "cell_type": "markdown",
            "source": [
                "## Create a Key File\n",
                "\n",
                "**Note**: If you want to make that key accessible to more computers store It somewhere safe on a fileshare. (Take care of the right ACLs)"
            ],
            "metadata": {
                "azdata_cell_guid": "d954a1d9-40e1-49e8-8af3-d0712ae26859"
            }
        },
        {
            "cell_type": "code",
            "source": [
                "\r\n",
                "$KeyPath = Join-Path -Path $BasePath -ChildPath \"AES.key\"\r\n",
                "$Key = New-Object -TypeName byte[] 16\r\n",
                "[Security.Cryptography.RNGCryptoServiceProvider]::Create().GetBytes($Key)\r\n",
                "$key | Out-File -FilePath $KeyPath"
            ],
            "metadata": {
                "azdata_cell_guid": "03db4ea0-e899-42e7-bb5c-831b6f8ca993",
                "tags": [
                    "hide_input"
                ]
            },
            "outputs": [],
            "execution_count": null
        },
        {
            "cell_type": "markdown",
            "source": [
                "###  Create a SecureString and encrypt It with the key"
            ],
            "metadata": {
                "azdata_cell_guid": "3ab95d49-2e7d-4d9a-b31c-6c19ad056edd"
            }
        },
        {
            "cell_type": "code",
            "source": [
                "\r\n",
                "$key = Get-Content -Path $KeyPath\r\n",
                "$EncPassword = ConvertTo-SecureString -String $Password -AsPlainText -Force\r\n",
                "$EncPassword | ConvertFrom-SecureString -Key $key | Out-File -FilePath $PasswordPath"
            ],
            "metadata": {
                "azdata_cell_guid": "27e99dbd-e8ad-42be-8d7b-ad1e9926d240",
                "tags": [
                    "hide_input"
                ]
            },
            "outputs": [],
            "execution_count": null
        },
        {
            "cell_type": "markdown",
            "source": [
                "Reminder: Open Password File"
            ],
            "metadata": {
                "azdata_cell_guid": "3bd9f956-fbe6-4767-ad13-77c044d1bc74"
            }
        },
        {
            "cell_type": "markdown",
            "source": [
                "### Create the PSCredential Object"
            ],
            "metadata": {
                "azdata_cell_guid": "af148179-2f44-4fa1-848b-e58e884f5e00"
            }
        },
        {
            "cell_type": "code",
            "source": [
                "\r\n",
                "$key = Get-Content -Path $KeyPath\r\n",
                "$pwd = Get-Content -Path $PasswordPath | ConvertTo-SecureString -Key $key\r\n",
                "$PSCred = New-Object -TypeName System.Management.Automation.PSCredential -ArgumentList $UserName, $pwd"
            ],
            "metadata": {
                "azdata_cell_guid": "49826761-5626-4375-ab31-e166431f5fd8",
                "tags": [
                    "hide_input"
                ]
            },
            "outputs": [],
            "execution_count": null
        },
        {
            "cell_type": "markdown",
            "source": [
                "TODO: KeePass, Azure KeyVault, LastPass, Secret Management"
            ],
            "metadata": {
                "azdata_cell_guid": "e049fa30-35d4-4b22-9866-84339de2365d"
            }
        },
        {
            "cell_type": "markdown",
            "source": [
                "## Housekeeping"
            ],
            "metadata": {
                "azdata_cell_guid": "e0531874-7561-4e03-bab6-2ec09088876d"
            }
        },
        {
            "cell_type": "code",
            "source": [
                "\r\n",
                "Remove-Item -Path $KeyPath -Force\r\n",
                "Remove-Item -Path $PasswordPath -Force\r\n",
                "Remove-Item -Path $CLIPathIntegrated -Force\r\n",
                "Remove-Item -Path $CLIPathPSFramework -Force"
            ],
            "metadata": {
                "azdata_cell_guid": "0b2514a9-495b-40ec-91fe-a21bfaee0a20",
                "tags": [
                    "hide_input"
                ]
            },
            "outputs": [],
            "execution_count": 2
        }
    ]
}