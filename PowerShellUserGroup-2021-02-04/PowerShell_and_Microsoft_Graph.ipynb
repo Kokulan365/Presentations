{
    "metadata": {
        "kernelspec": {
            "name": ".net-powershell",
            "display_name": ".NET (PowerShell)",
            "language": "PowerShell"
        },
        "language_info": {
            "name": "PowerShell",
            "version": "7.0",
            "mimetype": "text/x-powershell",
            "file_extension": ".ps1",
            "pygments_lexer": "powershell"
        }
    },
    "nbformat_minor": 2,
    "nbformat": 4,
    "cells": [
        {
            "cell_type": "markdown",
            "source": [
                "# PowerShell User Group innsalzach 04.02.2020\n",
                "\n",
                "## PowerShell an Microsoft Graph"
            ],
            "metadata": {
                "azdata_cell_guid": "b84827ff-5cac-4fc8-8bac-47d2eeea5c5d"
            }
        },
        {
            "cell_type": "markdown",
            "source": [
                "### What is Microsoft Graph?\r\n",
                "---\r\n",
                "\r\n",
                "Microsoft Graph holds all the data that we generate in Microsoft 365, Windows 10 and Enterprise Mobility + Security.\r\n",
                "\r\n",
                "What are these Services:\r\n",
                "\r\n",
                "- Microsoft 365 services: Delve, Excel, Microsoft Bookings, Microsoft Teams, OneDrive, OneNote, Outlook/Exchange, Planner, SharePoint, Workplace Analytics.\r\n",
                "    \r\n",
                "- Enterprise Mobility and Security services: Advanced Threat Analytics, Advanced Threat Protection, Azure Active Directory, Identity Manager, and Intune.\r\n",
                "    \r\n",
                "- Windows 10 services: activities, devices, notifications, Universal Print (preview).\r\n",
                "    \r\n",
                "- Dynamics 365 Business Central.\r\n",
                "\r\n",
                "\r\n",
                "![Microsoft Graph](https://docs.microsoft.com/en-us/graph/images/microsoft-graph.png)\r\n",
                "\r\n",
                "It is a rest api that is accessible over [https://graph.microsoft.com](https://graph.microsoft.com)\r\n",
                "\r\n",
                "Whant to read more? Use this link: [Microsoft Graph](https://docs.microsoft.com/en-us/graph/overview)"
            ],
            "metadata": {
                "azdata_cell_guid": "0280e0e0-93c9-4060-8633-0c84e4612a33"
            }
        },
        {
            "cell_type": "markdown",
            "source": [
                "### What is ADAL / MSAL\r\n",
                "---\r\n",
                "\r\n",
                "ADAL = Azure Active Directory Authentication Library\r\n",
                "\r\n",
                "MSAL = Microsoft Authentication Library\r\n",
                "\r\n",
                "Both libraries handle the Authentication against Azure Active Directory and provide you an authentication token.\r\n",
                "\r\n",
                "MSAL is the recommended authentication library for use with the Microsoft identity platform. \r\n",
                "\r\n",
                "No new features will be in ADAL and It was deprecated at the 30th July 2020 and will get fixes until 30th June 2022.\r\n",
                "\r\n",
                "Here are some advantages why you should use MSAL instead of ADAL:\r\n",
                "- Authentication with broader set of identities (Azure AD, Microsoft Account, Azure AD B2C Social Accounts)\r\n",
                "- Best single-sign-on experience\r\n",
                "- Support of conditional access is easier\r\n",
                "\r\n",
                "If you need guidance of migrating an existing ADAL app go to this link [MSAL Migration Guide](https://docs.microsoft.com/de-de/azure/active-directory/develop/msal-migration)\r\n",
                "\r\n",
                "There is a PowerShell Module for using MSAL and ADAL.\r\n",
                "\r\n",
                "- ADAL: ADAL.PS [ADAL.PS PowerShell Gallery](https://www.powershellgallery.com/packages/ADAL.PS/3.19.4.2)\r\n",
                "- MSAL: MSAL.PS [MSAL.PS PowerShell Gallery](https://www.powershellgallery.com/packages/MSAL.PS/4.21.0.1)\r\n",
                "\r\n",
                "Please use MSAL.PS for new projects. We will use It later. It is also PowerShell 7 compatible."
            ],
            "metadata": {
                "azdata_cell_guid": "4cc0960f-df6d-47ae-b2de-c9bf2231f56b"
            }
        },
        {
            "cell_type": "markdown",
            "source": [
                "Questions?"
            ],
            "metadata": {
                "azdata_cell_guid": "598618bb-958c-469b-b95d-54fd737e0203"
            }
        },
        {
            "cell_type": "markdown",
            "source": [
                "### How do I authenticate against Microsoft Graph?\n",
                "---\n",
                ""
            ],
            "metadata": {
                "azdata_cell_guid": "a66d5627-523d-40a0-94b6-44f2fce64937"
            }
        },
        {
            "cell_type": "code",
            "source": [
                "# Install the module if not already available\r\n",
                "if (Get-Module MSAL.PS -ListAvailable) {\r\n",
                "    Write-Output \"MSAL.PS is already available.\"   \r\n",
                "}\r\n",
                "else {\r\n",
                "    Install-Module MSAL.PS -AcceptLicense -Force\r\n",
                "}\r\n",
                "\r\n",
                "# Optinonally install JWTDetails\r\n",
                "\r\n",
                "if (Get-Module JWTDetails -ListAvailable) {\r\n",
                "    Write-Output \"JWTDetails is already available.\"   \r\n",
                "}\r\n",
                "else {\r\n",
                "    Install-Module JWTDetails -Force\r\n",
                "}"
            ],
            "metadata": {
                "azdata_cell_guid": "8f79b9dc-8ab7-40f6-a173-40767e611bb6",
                "tags": [
                    "hide_input"
                ]
            },
            "outputs": [],
            "execution_count": null
        },
        {
            "cell_type": "code",
            "source": [
                "# Get a Token (With Client Secret)\r\n",
                "$cred = Import-Clixml -Path C:\\Temp\\clientsecret.xml\r\n",
                "\r\n",
                "$splat = @{\r\n",
                "    ClientId     = \"d520b7d0-da08-4026-8962-6c59a74d2238\" \r\n",
                "    TenantId     = \"f8ddd457-53bf-4bcd-bd31-c1a30d7c78d7\" \r\n",
                "    ClientSecret = (ConvertTo-SecureString -String $cred.GetNetworkCredential().Password -AsPlainText -Force)\r\n",
                "}\r\n",
                "$Result = Get-MsalToken @splat"
            ],
            "metadata": {
                "azdata_cell_guid": "99ff7ac7-9cd6-4033-b688-5166a8bb58b0",
                "tags": [
                    "hide_input"
                ]
            },
            "outputs": [],
            "execution_count": null
        },
        {
            "cell_type": "code",
            "source": [
                "# Get a Token (With Device Login)(Be sure you have public client flow enabled on the Azure AD application)\r\n",
                "$splat = @{\r\n",
                "    ClientId     = \"d520b7d0-da08-4026-8962-6c59a74d2238\" \r\n",
                "    TenantId     = \"f8ddd457-53bf-4bcd-bd31-c1a30d7c78d7\" \r\n",
                "    DeviceCode  = $true\r\n",
                "}\r\n",
                "$Result = Get-MsalToken @splat"
            ],
            "metadata": {
                "azdata_cell_guid": "6b3936a7-2393-4efa-8468-3c1238df1e2d",
                "tags": [
                    "hide_input"
                ]
            },
            "outputs": [],
            "execution_count": null
        },
        {
            "cell_type": "code",
            "source": [
                "# Inspect the result\r\n",
                "$Result"
            ],
            "metadata": {
                "azdata_cell_guid": "ab254788-fba6-47cd-8836-d0c7a59596f4",
                "tags": [
                    "hide_input"
                ]
            },
            "outputs": [],
            "execution_count": null
        },
        {
            "cell_type": "code",
            "source": [
                "# Get only the accesstoken\r\n",
                "$Result.AccessToken"
            ],
            "metadata": {
                "azdata_cell_guid": "1f952468-294e-470b-b698-a2aa706d535a",
                "tags": [
                    "hide_input"
                ]
            },
            "outputs": [],
            "execution_count": null
        },
        {
            "cell_type": "code",
            "source": [
                "# Retrive the permissions with the MSAL Library\r\n",
                "$Result.Scopes\r\n",
                "\r\n",
                "# Optinally: Inspect the accesstoken with JWTDetails\r\n",
                "($Result.AccessToken | Get-JWTDetails).scp"
            ],
            "metadata": {
                "azdata_cell_guid": "c2403fc4-738d-4904-81d1-a1350d7ec307",
                "tags": [
                    "hide_input"
                ]
            },
            "outputs": [],
            "execution_count": null
        },
        {
            "cell_type": "code",
            "source": [
                "# Use the token in a Microsoft Graph Query v1.0\r\n",
                "\r\n",
                "# Normal way\r\n",
                "$Header = @{\r\n",
                "    Authorization = \"Bearer $($Result.AccessToken)\"\r\n",
                "}\r\n",
                "\r\n",
                "# Msal.PS way\r\n",
                "$Header_MSAL = @{\r\n",
                "    Authorization = $Result.CreateAuthorizationHeader()\r\n",
                "}\r\n",
                "\r\n",
                "Write-Output \"With classic header.\"\r\n",
                "$users_normal = Invoke-RestMethod -Headers $Header -Uri  'https://graph.microsoft.com/v1.0/users' -Method Get\r\n",
                "$users_normal.value | Select-Object -First 1\r\n",
                "\r\n",
                "Write-Output \"With MSAL created header\"\r\n",
                "$users_msal = Invoke-RestMethod -Headers $Header_MSAL -Uri  'https://graph.microsoft.com/v1.0/users' -Method Get\r\n",
                "$users_msal.value | Select-Object -First 1"
            ],
            "metadata": {
                "azdata_cell_guid": "3ec20de3-f8b8-4a4f-8c37-d788a6056aae",
                "tags": [
                    "hide_input"
                ]
            },
            "outputs": [],
            "execution_count": null
        },
        {
            "cell_type": "code",
            "source": [
                "# Use the token in a Microsoft Graph Query beta. See the difference?\r\n",
                "\r\n",
                "$Header = @{\r\n",
                "    Authorization = \"Bearer $($Result.AccessToken)\"\r\n",
                "}\r\n",
                "\r\n",
                "$users = Invoke-RestMethod -Headers $Header -Uri  'https://graph.microsoft.com/beta/users' -Method Get\r\n",
                "$users.value | Select-Object -First 1"
            ],
            "metadata": {
                "azdata_cell_guid": "0a790330-ded9-46bf-aa37-3b4097d6f087",
                "tags": [
                    "hide_input"
                ]
            },
            "outputs": [],
            "execution_count": null
        },
        {
            "cell_type": "markdown",
            "source": [
                "But how do I knew how to query users? That's where the Microsoft Graph explorer comes in. \r\n",
                "Hit the following url to get to It:\r\n",
                "\r\n",
                "[Graph Explorer (https://developer.microsoft.com/en-us/graph/graph-explorer)](https://developer.microsoft.com/en-us/graph/graph-explorer)\r\n",
                "\r\n",
                "If we do not find the query that we need here you can find It in the Microsoft Graph API Reference for sure [Graph API reference](https://docs.microsoft.com/en-us/graph/api/overview?view=graph-rest-beta)\r\n",
                "\r\n",
                "For reference how to use query parameters inside of Microsoft Graph [Query Parameters](https://docs.microsoft.com/de-de/graph/query-parameters)"
            ],
            "metadata": {
                "azdata_cell_guid": "eb8a808c-847f-4edb-84f3-f4cd581a7ac8"
            }
        },
        {
            "cell_type": "markdown",
            "source": [
                "### Query Graph API from inside VSCode\r\n",
                "---\r\n",
                "\r\n",
                "The following prerequisites are needed:\r\n",
                "- MSAL.PS PowerShell Module\r\n",
                "- VSCode extension Rest Client\r\n",
                "- Git Hub Repository from Ben Reader [VSCode Rest Client Demo](https://github.com/tabs-not-spaces/VSCode_RestClient_Demo)"
            ],
            "metadata": {
                "azdata_cell_guid": "1e82a8b2-ae66-4cf8-b059-8417dcca840e"
            }
        },
        {
            "cell_type": "markdown",
            "source": [
                "### Use the Microsoft.Graph PowerShell Module"
            ],
            "metadata": {
                "azdata_cell_guid": "5fd86e09-18eb-4672-b5ae-a8ef77972852"
            }
        }
    ]
}